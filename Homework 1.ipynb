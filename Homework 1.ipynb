{
 "cells": [
  {
   "cell_type": "code",
   "execution_count": 1,
   "metadata": {},
   "outputs": [
    {
     "name": "stdout",
     "output_type": "stream",
     "text": [
      "        |         |         \n",
      "\n",
      "        |         |         \n",
      "\n",
      "        |         |         \n",
      "\n",
      "        |         |         \n",
      "\n",
      "- - - - - - - - - - - - - - \n",
      "\n",
      "        |         |         \n",
      "\n",
      "        |         |         \n",
      "\n",
      "        |         |         \n",
      "\n",
      "        |         |         \n",
      "\n",
      "- - - - - - - - - - - - - - \n",
      "\n",
      "        |         |         \n",
      "\n",
      "        |         |         \n",
      "\n",
      "        |         |         \n",
      "\n",
      "        |         |         \n",
      "\n"
     ]
    }
   ],
   "source": [
    "n = 4\n",
    "c = 2 + 3 * n\n",
    "\n",
    "for row in range(c):\n",
    "        for col in range(c):\n",
    "            if (row == n or row == 2 * n + 1) :\n",
    "                print(\"-\", end = \" \")\n",
    "            elif (col == n or col == 2 * n + 1) :\n",
    "                print(\"|\" , end = \" \")\n",
    "            else:\n",
    "                print(\" \", end = \" \")\n",
    "        print(\"\\n\")\n"
   ]
  },
  {
   "cell_type": "code",
   "execution_count": null,
   "metadata": {},
   "outputs": [],
   "source": []
  }
 ],
 "metadata": {
  "kernelspec": {
   "display_name": "Python 3",
   "language": "python",
   "name": "python3"
  },
  "language_info": {
   "codemirror_mode": {
    "name": "ipython",
    "version": 3
   },
   "file_extension": ".py",
   "mimetype": "text/x-python",
   "name": "python",
   "nbconvert_exporter": "python",
   "pygments_lexer": "ipython3",
   "version": "3.12.0"
  }
 },
 "nbformat": 4,
 "nbformat_minor": 2
}
