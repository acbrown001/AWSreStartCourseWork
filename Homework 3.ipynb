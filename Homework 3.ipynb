{
 "cells": [
  {
   "cell_type": "code",
   "execution_count": 3,
   "metadata": {},
   "outputs": [
    {
     "name": "stdout",
     "output_type": "stream",
     "text": [
      "Assert confirms that the decrypted text is the same as the original string.\n"
     ]
    }
   ],
   "source": [
    "# Step 1: Use the right library to provide access to AES256 algorithm\n",
    "\n",
    "from cryptography.hazmat.backends import default_backend\n",
    "from cryptography.hazmat.primitives import hashes\n",
    "from cryptography.hazmat.primitives.kdf.pbkdf2 import PBKDF2HMAC\n",
    "from cryptography.hazmat.primitives.ciphers import Cipher, algorithms, modes\n",
    "import os\n",
    "\n",
    "def generate_key(password, salt):\n",
    "    kdf = PBKDF2HMAC(\n",
    "        algorithm=hashes.SHA256(),\n",
    "        length=32,\n",
    "        salt=salt,\n",
    "        iterations=100000,\n",
    "        backend=default_backend()\n",
    "    )\n",
    "    key = kdf.derive(password.encode())\n",
    "    return key\n",
    "\n",
    "def encrypt_data(key, plaintext):\n",
    "    iv = os.urandom(16)\n",
    "    cipher = Cipher(algorithms.AES(key), modes.CFB(iv), backend=default_backend())\n",
    "    encryptor = cipher.encryptor()\n",
    "    ciphertext = encryptor.update(plaintext.encode()) + encryptor.finalize()\n",
    "    return iv + ciphertext\n",
    "\n",
    "def decrypt_data(key, ciphertext):\n",
    "    iv = ciphertext[:16]\n",
    "    ciphertext = ciphertext[16:]\n",
    "    cipher = Cipher(algorithms.AES(key), modes.CFB(iv), backend=default_backend())\n",
    "    decryptor = cipher.decryptor()\n",
    "    plaintext = decryptor.update(ciphertext) + decryptor.finalize()\n",
    "    return plaintext.decode()\n",
    "\n",
    "# Step 2: Create and save your AES256 key\n",
    "password = \"Secure_Password\"\n",
    "salt = os.urandom(16)\n",
    "key = generate_key(password, salt)\n",
    "\n",
    "# Step 3: Create a string to test encryption\n",
    "original_string = \"This is a test string to test encryption.\"\n",
    "\n",
    "# Step 4: Perform AES256 symmetric encryption on data to get cipher text\n",
    "cipher_text = encrypt_data(key, original_string)\n",
    "\n",
    "# Step 5: Use AES256 symmetric decryption on cipher text to get original text\n",
    "decrypted_text = decrypt_data(key, cipher_text)\n",
    "\n",
    "# Step 6: Use 'assert' to check if decrypted data is the same as the original string\n",
    "assert decrypted_text == original_string\n",
    "\n",
    "print(\"Assert confirms that the decrypted text is the same as the original string.\")\n"
   ]
  },
  {
   "cell_type": "code",
   "execution_count": null,
   "metadata": {},
   "outputs": [],
   "source": []
  }
 ],
 "metadata": {
  "kernelspec": {
   "display_name": "Python 3",
   "language": "python",
   "name": "python3"
  },
  "language_info": {
   "codemirror_mode": {
    "name": "ipython",
    "version": 3
   },
   "file_extension": ".py",
   "mimetype": "text/x-python",
   "name": "python",
   "nbconvert_exporter": "python",
   "pygments_lexer": "ipython3",
   "version": "3.12.0"
  }
 },
 "nbformat": 4,
 "nbformat_minor": 2
}
