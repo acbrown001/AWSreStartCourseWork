{
 "cells": [
  {
   "cell_type": "code",
   "execution_count": 1,
   "metadata": {},
   "outputs": [
    {
     "name": "stdout",
     "output_type": "stream",
     "text": [
      "Triangle Area: 6.0\n",
      "Rectangle Area: 24\n",
      "Circle Area: 153.93804002589985\n",
      "Square Area: 25\n"
     ]
    }
   ],
   "source": [
    "import math\n",
    "\n",
    "class Shape:\n",
    "    def area(self):\n",
    "        raise NotImplementedError(\"Subclasses must implement the 'area' method.\")\n",
    "\n",
    "class Triangle(Shape):\n",
    "    def __init__(self, a, b, c):\n",
    "        self.a = a\n",
    "        self.b = b\n",
    "        self.c = c\n",
    "        self.validate_triangle()\n",
    "\n",
    "    def validate_triangle(self):\n",
    "        assert self.a + self.b > self.c, \"Invalid triangle sides\"\n",
    "        assert self.b + self.c > self.a, \"Invalid triangle sides\"\n",
    "        assert self.c + self.a > self.b, \"Invalid triangle sides\"\n",
    "\n",
    "    def area(self):\n",
    "        s = (self.a + self.b + self.c) / 2\n",
    "        return math.sqrt(s * (s - self.a) * (s - self.b) * (s - self.c))\n",
    "\n",
    "class Rectangle(Shape):\n",
    "    def __init__(self, length, width):\n",
    "        self.length = length\n",
    "        self.width = width\n",
    "\n",
    "    def area(self):\n",
    "        return self.length * self.width\n",
    "\n",
    "class Circle(Shape):\n",
    "    def __init__(self, radius):\n",
    "        self.radius = radius\n",
    "\n",
    "    def area(self):\n",
    "        return math.pi * self.radius**2\n",
    "\n",
    "class Square(Rectangle):\n",
    "    def __init__(self, side):\n",
    "        super().__init__(side, side)\n",
    "\n",
    "# Test Triangle\n",
    "triangle = Triangle(3, 4, 5)\n",
    "print(f\"Triangle Area: {triangle.area()}\")\n",
    "\n",
    "# Test Rectangle\n",
    "rectangle = Rectangle(4, 6)\n",
    "print(f\"Rectangle Area: {rectangle.area()}\")\n",
    "\n",
    "# Test Circle\n",
    "circle = Circle(7)\n",
    "print(f\"Circle Area: {circle.area()}\")\n",
    "\n",
    "# Test Square\n",
    "square = Square(5)\n",
    "print(f\"Square Area: {square.area()}\")\n",
    "\n"
   ]
  },
  {
   "cell_type": "code",
   "execution_count": null,
   "metadata": {},
   "outputs": [],
   "source": []
  }
 ],
 "metadata": {
  "kernelspec": {
   "display_name": "Python 3",
   "language": "python",
   "name": "python3"
  },
  "language_info": {
   "codemirror_mode": {
    "name": "ipython",
    "version": 3
   },
   "file_extension": ".py",
   "mimetype": "text/x-python",
   "name": "python",
   "nbconvert_exporter": "python",
   "pygments_lexer": "ipython3",
   "version": "3.12.0"
  }
 },
 "nbformat": 4,
 "nbformat_minor": 2
}
