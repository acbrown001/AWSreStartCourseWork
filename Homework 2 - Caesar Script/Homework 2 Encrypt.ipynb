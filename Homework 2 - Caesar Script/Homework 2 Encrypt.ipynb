{
 "cells": [
  {
   "cell_type": "code",
   "execution_count": 3,
   "metadata": {},
   "outputs": [
    {
     "name": "stdout",
     "output_type": "stream",
     "text": [
      "Original Text: HELLOWORLD\n",
      "Shift Amount : 1\n",
      "Encrypted Text: IFMMPXPSME\n"
     ]
    }
   ],
   "source": [
    "def encrypt(text, shift):\n",
    "    encrypted_text = \"\"\n",
    "\n",
    "    for char in text:\n",
    "        if char.isupper():  \n",
    "            # If character is uppercase letter in ASCII, shift its value by the shift amount\n",
    "            # and convert it back to a character\n",
    "            new_char = chr(((ord(char) - 65 + shift) % 26) + 65)\n",
    "        else:  \n",
    "            # If the character is a lowercase letter in ASCII, shift its value by the shift amount\n",
    "            # and convert it back to a character\n",
    "            new_char = chr(((ord(char) - 97 + shift) % 26) + 97)\n",
    "\n",
    "        encrypted_text += new_char  # Add the new character to the encrypted text\n",
    "\n",
    "    return encrypted_text\n",
    "\n",
    "# Example text \n",
    "text = \"HELLOWORLD\"\n",
    "\n",
    "# Shift amount\n",
    "shift = 1\n",
    "\n",
    "# Print results\n",
    "print(\"Original Text: \" + text)\n",
    "print(\"Shift Amount : \" + str(shift))\n",
    "print(\"Encrypted Text: \" + encrypt(text, shift))"
   ]
  },
  {
   "cell_type": "code",
   "execution_count": null,
   "metadata": {},
   "outputs": [],
   "source": []
  }
 ],
 "metadata": {
  "kernelspec": {
   "display_name": "Python 3",
   "language": "python",
   "name": "python3"
  },
  "language_info": {
   "codemirror_mode": {
    "name": "ipython",
    "version": 3
   },
   "file_extension": ".py",
   "mimetype": "text/x-python",
   "name": "python",
   "nbconvert_exporter": "python",
   "pygments_lexer": "ipython3",
   "version": "3.12.0"
  }
 },
 "nbformat": 4,
 "nbformat_minor": 2
}
