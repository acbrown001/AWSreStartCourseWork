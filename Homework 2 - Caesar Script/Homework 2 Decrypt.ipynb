{
 "cells": [
  {
   "cell_type": "code",
   "execution_count": 1,
   "metadata": {},
   "outputs": [
    {
     "name": "stdout",
     "output_type": "stream",
     "text": [
      "Encrypted Text: IFMMPXPSME\n",
      "Shift Amount : 1\n",
      "Decrypted Text: HELLOWORLD\n"
     ]
    }
   ],
   "source": [
    "def decrypt(text, shift):\n",
    "    decrypted_text = \"\"\n",
    "\n",
    "    for char in text:\n",
    "\n",
    "        if char.isupper():\n",
    "            # If character is uppercase, subtract 65 (ASCII value of A) to get value in range 0-25.\n",
    "            # Then subtract the shift amount and take the remainder of 26 to get the new character.\n",
    "            new_char = chr(((ord(char) - 65 - shift) % 26) + 65)\n",
    "        else:\n",
    "            # If character is lowercase, subtract 97 (ASCII value of a) to get value in range 0-25.\n",
    "            # Then subtract the shift amount and take the remainder of 26 to get the new character.\n",
    "            new_char = chr(((ord(char) - 97 - shift) % 26) + 97)\n",
    "\n",
    "        decrypted_text += new_char\n",
    "\n",
    "    return decrypted_text\n",
    "\n",
    "# Example text \n",
    "encrypted_text = \"IFMMPXPSME\"\n",
    "\n",
    "# Shift amount\n",
    "shift = 1\n",
    "\n",
    "# Print results\n",
    "print(\"Encrypted Text: \" + encrypted_text)\n",
    "print(\"Shift Amount : \" + str(shift))\n",
    "print(\"Decrypted Text: \" + decrypt(encrypted_text, shift))"
   ]
  },
  {
   "cell_type": "code",
   "execution_count": null,
   "metadata": {},
   "outputs": [],
   "source": []
  }
 ],
 "metadata": {
  "kernelspec": {
   "display_name": "Python 3",
   "language": "python",
   "name": "python3"
  },
  "language_info": {
   "codemirror_mode": {
    "name": "ipython",
    "version": 3
   },
   "file_extension": ".py",
   "mimetype": "text/x-python",
   "name": "python",
   "nbconvert_exporter": "python",
   "pygments_lexer": "ipython3",
   "version": "3.12.0"
  }
 },
 "nbformat": 4,
 "nbformat_minor": 2
}
