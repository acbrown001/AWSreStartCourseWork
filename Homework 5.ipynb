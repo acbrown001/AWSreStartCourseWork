{
 "cells": [
  {
   "cell_type": "code",
   "execution_count": 1,
   "metadata": {},
   "outputs": [
    {
     "name": "stdout",
     "output_type": "stream",
     "text": [
      "{'brand': 'Tesla', 'mileage_km': 90200, 'range': 300}\n",
      "{'brand': 'Toyota', 'mileage_km': 1000099, 'fuel_consumption': 100, 'fuel_level': -10069.0}\n"
     ]
    }
   ],
   "source": [
    "class Car:\n",
    "    def __init__(self,brand,mileage_km):\n",
    "        self.brand = brand\n",
    "        self.mileage_km = mileage_km\n",
    "\n",
    "    def drive(self, distance_km):\n",
    "        self.mileage_km = self.mileage_km + distance_km\n",
    "        # self.mileage_km += distance_km also the same as above\n",
    "\n",
    "class ElectricCar(Car): #Electric_Car inherits from Car\n",
    "    def __init__(self,brand,mileage_km,range):\n",
    "         super().__init__(brand,mileage_km)\n",
    "         self.range = range\n",
    "\n",
    "    def drive(self, distance_km):\n",
    "        super().drive(distance_km)\n",
    "        self.range -= distance_km\n",
    "\n",
    "class IceCar(Car): #ICE_Car inherits from Car\n",
    "    def __init__(self,brand,mileage_km,fuel_consumption, fuel_level):\n",
    "         super().__init__(brand,mileage_km)\n",
    "         self.fuel_consumption = fuel_consumption\n",
    "         self.fuel_level = fuel_level\n",
    "\n",
    "    def drive(self, distance_km):\n",
    "        super().drive(distance_km)\n",
    "        self.fuel_level -= distance_km * self.fuel_consumption / 100\n",
    "\n",
    "my_ev = ElectricCar(\"Tesla\", 90000, 500)\n",
    "my_ev.drive(distance_km=100)\n",
    "\n",
    "my_ice = IceCar(\"Toyota\", 990000, 100, 30)\n",
    "my_ice.drive(distance_km=9999)\n",
    "\n",
    "#print(my_ice.__dict__)\n",
    "#print(my_ev.__dict__)\n",
    "\n",
    "# Test drive behaviour of ElectricCar\n",
    "my_ev.drive(distance_km=100)\n",
    "print(my_ev.__dict__)\n",
    "\n",
    "# Test drive behaviour of IceCar\n",
    "my_ice.drive(distance_km=100)\n",
    "print(my_ice.__dict__)\n"
   ]
  },
  {
   "cell_type": "code",
   "execution_count": null,
   "metadata": {},
   "outputs": [],
   "source": []
  }
 ],
 "metadata": {
  "kernelspec": {
   "display_name": "Python 3",
   "language": "python",
   "name": "python3"
  },
  "language_info": {
   "codemirror_mode": {
    "name": "ipython",
    "version": 3
   },
   "file_extension": ".py",
   "mimetype": "text/x-python",
   "name": "python",
   "nbconvert_exporter": "python",
   "pygments_lexer": "ipython3",
   "version": "3.12.0"
  }
 },
 "nbformat": 4,
 "nbformat_minor": 2
}
