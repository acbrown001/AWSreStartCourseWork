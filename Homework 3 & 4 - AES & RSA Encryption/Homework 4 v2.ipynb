{
 "cells": [
  {
   "cell_type": "code",
   "execution_count": 2,
   "metadata": {},
   "outputs": [
    {
     "name": "stdout",
     "output_type": "stream",
     "text": [
      "Signature is valid.\n"
     ]
    }
   ],
   "source": [
    "from cryptography.hazmat.backends import default_backend\n",
    "from cryptography.hazmat.primitives import serialization, hashes\n",
    "from cryptography.hazmat.primitives.asymmetric import rsa, padding\n",
    "\n",
    "def generate_key_pair():\n",
    "    private_key = rsa.generate_private_key(\n",
    "        public_exponent=65537,\n",
    "        key_size=2048,\n",
    "        backend=default_backend()\n",
    "    )\n",
    "    public_key = private_key.public_key()\n",
    "    return private_key, public_key\n",
    "\n",
    "def sign_message(private_key, message):\n",
    "    signature = private_key.sign(\n",
    "        message,\n",
    "        padding.PSS(\n",
    "            mgf=padding.MGF1(hashes.SHA256()),\n",
    "            salt_length=padding.PSS.MAX_LENGTH\n",
    "        ),\n",
    "        hashes.SHA256()\n",
    "    )\n",
    "    return signature\n",
    "\n",
    "def verify_signature(public_key, message, signature):\n",
    "    try:\n",
    "        public_key.verify(\n",
    "            signature,\n",
    "            message,\n",
    "            padding.PSS(\n",
    "                mgf=padding.MGF1(hashes.SHA256()),\n",
    "                salt_length=padding.PSS.MAX_LENGTH\n",
    "            ),\n",
    "            hashes.SHA256()\n",
    "        )\n",
    "        return True\n",
    "    except Exception as e:\n",
    "        print(f\"Verification failed: {e}\")\n",
    "        return False\n",
    "\n",
    "# Step 1: Generate RSA-256 key pair (public and private)\n",
    "private_key, public_key = generate_key_pair()\n",
    "\n",
    "# Step 2: Use the private key to sign a message\n",
    "input_message = b\"This is the message to be signed.\"\n",
    "signature = sign_message(private_key, input_message)\n",
    "\n",
    "# Step 3: Use the public key to verify the signature\n",
    "verification_result = verify_signature(public_key, input_message, signature)\n",
    "\n",
    "# Print the verification result\n",
    "if verification_result:\n",
    "    print(\"Signature is valid.\")\n",
    "else:\n",
    "    print(\"Signature is invalid.\")\n"
   ]
  },
  {
   "cell_type": "code",
   "execution_count": null,
   "metadata": {},
   "outputs": [],
   "source": []
  }
 ],
 "metadata": {
  "kernelspec": {
   "display_name": "Python 3",
   "language": "python",
   "name": "python3"
  },
  "language_info": {
   "codemirror_mode": {
    "name": "ipython",
    "version": 3
   },
   "file_extension": ".py",
   "mimetype": "text/x-python",
   "name": "python",
   "nbconvert_exporter": "python",
   "pygments_lexer": "ipython3",
   "version": "3.12.0"
  }
 },
 "nbformat": 4,
 "nbformat_minor": 2
}
